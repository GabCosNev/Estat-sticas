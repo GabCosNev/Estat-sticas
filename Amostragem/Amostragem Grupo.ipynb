{
 "cells": [
  {
   "cell_type": "code",
   "execution_count": 2,
   "id": "fabd3c94-1a97-4a83-a310-e873b846b6b4",
   "metadata": {},
   "outputs": [],
   "source": [
    "import pandas as pd\n",
    "import random\n",
    "import numpy as np"
   ]
  },
  {
   "cell_type": "code",
   "execution_count": 4,
   "id": "b14c7c45-f5b4-4ccf-914a-f3d071f45627",
   "metadata": {},
   "outputs": [],
   "source": [
    "data = pd.read_csv('census.csv')"
   ]
  },
  {
   "cell_type": "code",
   "execution_count": 6,
   "id": "2d2ccab5-7fdc-47fa-9ec7-f8520e9bb34e",
   "metadata": {},
   "outputs": [],
   "source": [
    "def amostragem_grupo(data, divisao_grupos):\n",
    "    intervalo = len(data)/divisao_grupos\n",
    "    grupos = []\n",
    "    id_grupo = 0\n",
    "    contagem = 0\n",
    "    for _, row in data.iterrows():  # _ é usado para ignorar o índice\n",
    "        grupos.append(id_grupo)  # Adiciona o ID do grupo atual à lista 'grupos'\n",
    "        contagem += 1  # Incrementa o contador\n",
    "\n",
    "        # Quando o contador ultrapassa 3256, reinicia a contagem e avança para o próximo grupo\n",
    "        if contagem > intervalo:\n",
    "            contagem = 0  # Reinicia a contagem\n",
    "            id_grupo += 1  # Incrementa o ID do grupo\n",
    "    data['grupo'] = grupos\n",
    "    grupo_selecionado = random.randint(0, divisao_grupos)\n",
    "    return data[data['grupo'] == grupo_selecionado]"
   ]
  },
  {
   "cell_type": "code",
   "execution_count": 8,
   "id": "7f82cad3-fc55-4480-ad21-08e49e4563f3",
   "metadata": {},
   "outputs": [
    {
     "data": {
      "text/plain": [
       "grupo\n",
       "24    326\n",
       "Name: count, dtype: int64"
      ]
     },
     "execution_count": 8,
     "metadata": {},
     "output_type": "execute_result"
    }
   ],
   "source": [
    "dado_amostra_agrupamento = amostragem_grupo(data, 100)\n",
    "dado_amostra_agrupamento['grupo'].value_counts() "
   ]
  },
  {
   "cell_type": "code",
   "execution_count": null,
   "id": "2b8d2381-109c-4d2b-8b75-5ec0d33ca82d",
   "metadata": {},
   "outputs": [],
   "source": []
  }
 ],
 "metadata": {
  "kernelspec": {
   "display_name": "Python 3 (ipykernel)",
   "language": "python",
   "name": "python3"
  },
  "language_info": {
   "codemirror_mode": {
    "name": "ipython",
    "version": 3
   },
   "file_extension": ".py",
   "mimetype": "text/x-python",
   "name": "python",
   "nbconvert_exporter": "python",
   "pygments_lexer": "ipython3",
   "version": "3.12.4"
  }
 },
 "nbformat": 4,
 "nbformat_minor": 5
}
