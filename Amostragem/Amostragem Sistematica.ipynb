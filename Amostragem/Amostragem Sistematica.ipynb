{
 "cells": [
  {
   "cell_type": "code",
   "execution_count": 1,
   "id": "451e0508-d2e2-48d6-ab73-7f5f417f09e4",
   "metadata": {},
   "outputs": [],
   "source": [
    "import pandas as pd\n",
    "import random\n",
    "import numpy as np"
   ]
  },
  {
   "cell_type": "code",
   "execution_count": 2,
   "id": "6d5e4992-0857-4e4a-9ab0-24bebcd97116",
   "metadata": {},
   "outputs": [],
   "source": [
    "data = pd.read_csv('census.csv')"
   ]
  },
  {
   "cell_type": "code",
   "execution_count": 3,
   "id": "b09672df-e97c-45c7-ac8b-2b33ba20415c",
   "metadata": {},
   "outputs": [
    {
     "data": {
      "text/plain": [
       "(32561, 15)"
      ]
     },
     "execution_count": 3,
     "metadata": {},
     "output_type": "execute_result"
    }
   ],
   "source": [
    "data.shape"
   ]
  },
  {
   "cell_type": "code",
   "execution_count": 37,
   "id": "287dd217-5736-4d67-8a6d-651edc8cdc6f",
   "metadata": {},
   "outputs": [],
   "source": [
    "def amostragem_sistematica_random(data, seed):\n",
    "    random.seed(seed) # Não alterar o valor randomico que for gerado no radint\n",
    "    intervalo = len(data) // 100\n",
    "    randomicidade = random.randint(0, intervalo)\n",
    "    indices = np.arange(randomicidade, len(data), step=intervalo)\n",
    "    amostragem_sistematica = data.iloc[indices]\n",
    "    return amostragem_sistematica"
   ]
  },
  {
   "cell_type": "code",
   "execution_count": 39,
   "id": "a478526d-2c0b-4700-a42e-aa8bfbe96018",
   "metadata": {},
   "outputs": [
    {
     "name": "stdout",
     "output_type": "stream",
     "text": [
      "[   68   393   718  1043  1368  1693  2018  2343  2668  2993  3318  3643\n",
      "  3968  4293  4618  4943  5268  5593  5918  6243  6568  6893  7218  7543\n",
      "  7868  8193  8518  8843  9168  9493  9818 10143 10468 10793 11118 11443\n",
      " 11768 12093 12418 12743 13068 13393 13718 14043 14368 14693 15018 15343\n",
      " 15668 15993 16318 16643 16968 17293 17618 17943 18268 18593 18918 19243\n",
      " 19568 19893 20218 20543 20868 21193 21518 21843 22168 22493 22818 23143\n",
      " 23468 23793 24118 24443 24768 25093 25418 25743 26068 26393 26718 27043\n",
      " 27368 27693 28018 28343 28668 28993 29318 29643 29968 30293 30618 30943\n",
      " 31268 31593 31918 32243]\n"
     ]
    }
   ],
   "source": [
    "data_amostra_sistematica = amostragem_sistematica_random(data, 1)"
   ]
  },
  {
   "cell_type": "code",
   "execution_count": 41,
   "id": "caf5dc33-abec-49d7-9ad0-9d805e81d735",
   "metadata": {},
   "outputs": [
    {
     "data": {
      "text/html": [
       "<div>\n",
       "<style scoped>\n",
       "    .dataframe tbody tr th:only-of-type {\n",
       "        vertical-align: middle;\n",
       "    }\n",
       "\n",
       "    .dataframe tbody tr th {\n",
       "        vertical-align: top;\n",
       "    }\n",
       "\n",
       "    .dataframe thead th {\n",
       "        text-align: right;\n",
       "    }\n",
       "</style>\n",
       "<table border=\"1\" class=\"dataframe\">\n",
       "  <thead>\n",
       "    <tr style=\"text-align: right;\">\n",
       "      <th></th>\n",
       "      <th>age</th>\n",
       "      <th>workclass</th>\n",
       "      <th>final-weight</th>\n",
       "      <th>education</th>\n",
       "      <th>education-num</th>\n",
       "      <th>marital-status</th>\n",
       "      <th>occupation</th>\n",
       "      <th>relationship</th>\n",
       "      <th>race</th>\n",
       "      <th>sex</th>\n",
       "      <th>capital-gain</th>\n",
       "      <th>capital-loos</th>\n",
       "      <th>hour-per-week</th>\n",
       "      <th>native-country</th>\n",
       "      <th>income</th>\n",
       "    </tr>\n",
       "  </thead>\n",
       "  <tbody>\n",
       "    <tr>\n",
       "      <th>68</th>\n",
       "      <td>49</td>\n",
       "      <td>Self-emp-inc</td>\n",
       "      <td>191681</td>\n",
       "      <td>Some-college</td>\n",
       "      <td>10</td>\n",
       "      <td>Married-civ-spouse</td>\n",
       "      <td>Exec-managerial</td>\n",
       "      <td>Husband</td>\n",
       "      <td>White</td>\n",
       "      <td>Male</td>\n",
       "      <td>0</td>\n",
       "      <td>0</td>\n",
       "      <td>50</td>\n",
       "      <td>United-States</td>\n",
       "      <td>&gt;50K</td>\n",
       "    </tr>\n",
       "    <tr>\n",
       "      <th>393</th>\n",
       "      <td>34</td>\n",
       "      <td>State-gov</td>\n",
       "      <td>98101</td>\n",
       "      <td>Bachelors</td>\n",
       "      <td>13</td>\n",
       "      <td>Married-civ-spouse</td>\n",
       "      <td>Exec-managerial</td>\n",
       "      <td>Husband</td>\n",
       "      <td>White</td>\n",
       "      <td>Male</td>\n",
       "      <td>7688</td>\n",
       "      <td>0</td>\n",
       "      <td>45</td>\n",
       "      <td>?</td>\n",
       "      <td>&gt;50K</td>\n",
       "    </tr>\n",
       "    <tr>\n",
       "      <th>718</th>\n",
       "      <td>22</td>\n",
       "      <td>Private</td>\n",
       "      <td>214399</td>\n",
       "      <td>Some-college</td>\n",
       "      <td>10</td>\n",
       "      <td>Never-married</td>\n",
       "      <td>Sales</td>\n",
       "      <td>Own-child</td>\n",
       "      <td>White</td>\n",
       "      <td>Female</td>\n",
       "      <td>0</td>\n",
       "      <td>0</td>\n",
       "      <td>15</td>\n",
       "      <td>United-States</td>\n",
       "      <td>&lt;=50K</td>\n",
       "    </tr>\n",
       "    <tr>\n",
       "      <th>1043</th>\n",
       "      <td>44</td>\n",
       "      <td>Private</td>\n",
       "      <td>167005</td>\n",
       "      <td>Bachelors</td>\n",
       "      <td>13</td>\n",
       "      <td>Married-civ-spouse</td>\n",
       "      <td>Exec-managerial</td>\n",
       "      <td>Husband</td>\n",
       "      <td>White</td>\n",
       "      <td>Male</td>\n",
       "      <td>7688</td>\n",
       "      <td>0</td>\n",
       "      <td>60</td>\n",
       "      <td>United-States</td>\n",
       "      <td>&gt;50K</td>\n",
       "    </tr>\n",
       "    <tr>\n",
       "      <th>1368</th>\n",
       "      <td>52</td>\n",
       "      <td>Private</td>\n",
       "      <td>152234</td>\n",
       "      <td>HS-grad</td>\n",
       "      <td>9</td>\n",
       "      <td>Married-civ-spouse</td>\n",
       "      <td>Exec-managerial</td>\n",
       "      <td>Husband</td>\n",
       "      <td>Asian-Pac-Islander</td>\n",
       "      <td>Male</td>\n",
       "      <td>99999</td>\n",
       "      <td>0</td>\n",
       "      <td>40</td>\n",
       "      <td>Japan</td>\n",
       "      <td>&gt;50K</td>\n",
       "    </tr>\n",
       "  </tbody>\n",
       "</table>\n",
       "</div>"
      ],
      "text/plain": [
       "      age      workclass  final-weight      education  education-num  \\\n",
       "68     49   Self-emp-inc        191681   Some-college             10   \n",
       "393    34      State-gov         98101      Bachelors             13   \n",
       "718    22        Private        214399   Some-college             10   \n",
       "1043   44        Private        167005      Bachelors             13   \n",
       "1368   52        Private        152234        HS-grad              9   \n",
       "\n",
       "           marital-status        occupation relationship                 race  \\\n",
       "68     Married-civ-spouse   Exec-managerial      Husband                White   \n",
       "393    Married-civ-spouse   Exec-managerial      Husband                White   \n",
       "718         Never-married             Sales    Own-child                White   \n",
       "1043   Married-civ-spouse   Exec-managerial      Husband                White   \n",
       "1368   Married-civ-spouse   Exec-managerial      Husband   Asian-Pac-Islander   \n",
       "\n",
       "          sex  capital-gain  capital-loos  hour-per-week  native-country  \\\n",
       "68       Male             0             0             50   United-States   \n",
       "393      Male          7688             0             45               ?   \n",
       "718    Female             0             0             15   United-States   \n",
       "1043     Male          7688             0             60   United-States   \n",
       "1368     Male         99999             0             40           Japan   \n",
       "\n",
       "      income  \n",
       "68      >50K  \n",
       "393     >50K  \n",
       "718    <=50K  \n",
       "1043    >50K  \n",
       "1368    >50K  "
      ]
     },
     "execution_count": 41,
     "metadata": {},
     "output_type": "execute_result"
    }
   ],
   "source": [
    "data_amostra_sistematica.head()"
   ]
  },
  {
   "cell_type": "code",
   "execution_count": null,
   "id": "22b8540e-3aa9-4aae-90bd-749e553c36dd",
   "metadata": {},
   "outputs": [],
   "source": []
  }
 ],
 "metadata": {
  "kernelspec": {
   "display_name": "Python 3 (ipykernel)",
   "language": "python",
   "name": "python3"
  },
  "language_info": {
   "codemirror_mode": {
    "name": "ipython",
    "version": 3
   },
   "file_extension": ".py",
   "mimetype": "text/x-python",
   "name": "python",
   "nbconvert_exporter": "python",
   "pygments_lexer": "ipython3",
   "version": "3.12.4"
  }
 },
 "nbformat": 4,
 "nbformat_minor": 5
}
