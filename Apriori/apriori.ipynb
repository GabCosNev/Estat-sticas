{
 "cells": [
  {
   "cell_type": "code",
   "execution_count": 2,
   "id": "54967d8f-0b37-42ab-817c-5474da39c88d",
   "metadata": {},
   "outputs": [],
   "source": [
    "import pandas as pd \n",
    "import numpy as np \n",
    "import matplotlib.pyplot as plt"
   ]
  },
  {
   "cell_type": "code",
   "execution_count": 3,
   "id": "aa9c7600-2dcb-402b-a3cb-4a4d8a5c03e7",
   "metadata": {},
   "outputs": [],
   "source": [
    "dados = pd.read_csv('census.csv')"
   ]
  },
  {
   "cell_type": "code",
   "execution_count": 4,
   "id": "ba00144f-ad6b-4660-8424-779f4751210c",
   "metadata": {},
   "outputs": [
    {
     "data": {
      "text/html": [
       "<div>\n",
       "<style scoped>\n",
       "    .dataframe tbody tr th:only-of-type {\n",
       "        vertical-align: middle;\n",
       "    }\n",
       "\n",
       "    .dataframe tbody tr th {\n",
       "        vertical-align: top;\n",
       "    }\n",
       "\n",
       "    .dataframe thead th {\n",
       "        text-align: right;\n",
       "    }\n",
       "</style>\n",
       "<table border=\"1\" class=\"dataframe\">\n",
       "  <thead>\n",
       "    <tr style=\"text-align: right;\">\n",
       "      <th></th>\n",
       "      <th>age</th>\n",
       "      <th>workclass</th>\n",
       "      <th>final-weight</th>\n",
       "      <th>education</th>\n",
       "      <th>education-num</th>\n",
       "      <th>marital-status</th>\n",
       "      <th>occupation</th>\n",
       "      <th>relationship</th>\n",
       "      <th>race</th>\n",
       "      <th>sex</th>\n",
       "      <th>capital-gain</th>\n",
       "      <th>capital-loos</th>\n",
       "      <th>hour-per-week</th>\n",
       "      <th>native-country</th>\n",
       "      <th>income</th>\n",
       "    </tr>\n",
       "  </thead>\n",
       "  <tbody>\n",
       "    <tr>\n",
       "      <th>0</th>\n",
       "      <td>39</td>\n",
       "      <td>State-gov</td>\n",
       "      <td>77516</td>\n",
       "      <td>Bachelors</td>\n",
       "      <td>13</td>\n",
       "      <td>Never-married</td>\n",
       "      <td>Adm-clerical</td>\n",
       "      <td>Not-in-family</td>\n",
       "      <td>White</td>\n",
       "      <td>Male</td>\n",
       "      <td>2174</td>\n",
       "      <td>0</td>\n",
       "      <td>40</td>\n",
       "      <td>United-States</td>\n",
       "      <td>&lt;=50K</td>\n",
       "    </tr>\n",
       "    <tr>\n",
       "      <th>1</th>\n",
       "      <td>50</td>\n",
       "      <td>Self-emp-not-inc</td>\n",
       "      <td>83311</td>\n",
       "      <td>Bachelors</td>\n",
       "      <td>13</td>\n",
       "      <td>Married-civ-spouse</td>\n",
       "      <td>Exec-managerial</td>\n",
       "      <td>Husband</td>\n",
       "      <td>White</td>\n",
       "      <td>Male</td>\n",
       "      <td>0</td>\n",
       "      <td>0</td>\n",
       "      <td>13</td>\n",
       "      <td>United-States</td>\n",
       "      <td>&lt;=50K</td>\n",
       "    </tr>\n",
       "    <tr>\n",
       "      <th>2</th>\n",
       "      <td>38</td>\n",
       "      <td>Private</td>\n",
       "      <td>215646</td>\n",
       "      <td>HS-grad</td>\n",
       "      <td>9</td>\n",
       "      <td>Divorced</td>\n",
       "      <td>Handlers-cleaners</td>\n",
       "      <td>Not-in-family</td>\n",
       "      <td>White</td>\n",
       "      <td>Male</td>\n",
       "      <td>0</td>\n",
       "      <td>0</td>\n",
       "      <td>40</td>\n",
       "      <td>United-States</td>\n",
       "      <td>&lt;=50K</td>\n",
       "    </tr>\n",
       "    <tr>\n",
       "      <th>3</th>\n",
       "      <td>53</td>\n",
       "      <td>Private</td>\n",
       "      <td>234721</td>\n",
       "      <td>11th</td>\n",
       "      <td>7</td>\n",
       "      <td>Married-civ-spouse</td>\n",
       "      <td>Handlers-cleaners</td>\n",
       "      <td>Husband</td>\n",
       "      <td>Black</td>\n",
       "      <td>Male</td>\n",
       "      <td>0</td>\n",
       "      <td>0</td>\n",
       "      <td>40</td>\n",
       "      <td>United-States</td>\n",
       "      <td>&lt;=50K</td>\n",
       "    </tr>\n",
       "    <tr>\n",
       "      <th>4</th>\n",
       "      <td>28</td>\n",
       "      <td>Private</td>\n",
       "      <td>338409</td>\n",
       "      <td>Bachelors</td>\n",
       "      <td>13</td>\n",
       "      <td>Married-civ-spouse</td>\n",
       "      <td>Prof-specialty</td>\n",
       "      <td>Wife</td>\n",
       "      <td>Black</td>\n",
       "      <td>Female</td>\n",
       "      <td>0</td>\n",
       "      <td>0</td>\n",
       "      <td>40</td>\n",
       "      <td>Cuba</td>\n",
       "      <td>&lt;=50K</td>\n",
       "    </tr>\n",
       "  </tbody>\n",
       "</table>\n",
       "</div>"
      ],
      "text/plain": [
       "   age          workclass  final-weight   education  education-num  \\\n",
       "0   39          State-gov         77516   Bachelors             13   \n",
       "1   50   Self-emp-not-inc         83311   Bachelors             13   \n",
       "2   38            Private        215646     HS-grad              9   \n",
       "3   53            Private        234721        11th              7   \n",
       "4   28            Private        338409   Bachelors             13   \n",
       "\n",
       "        marital-status          occupation    relationship    race      sex  \\\n",
       "0        Never-married        Adm-clerical   Not-in-family   White     Male   \n",
       "1   Married-civ-spouse     Exec-managerial         Husband   White     Male   \n",
       "2             Divorced   Handlers-cleaners   Not-in-family   White     Male   \n",
       "3   Married-civ-spouse   Handlers-cleaners         Husband   Black     Male   \n",
       "4   Married-civ-spouse      Prof-specialty            Wife   Black   Female   \n",
       "\n",
       "   capital-gain  capital-loos  hour-per-week  native-country  income  \n",
       "0          2174             0             40   United-States   <=50K  \n",
       "1             0             0             13   United-States   <=50K  \n",
       "2             0             0             40   United-States   <=50K  \n",
       "3             0             0             40   United-States   <=50K  \n",
       "4             0             0             40            Cuba   <=50K  "
      ]
     },
     "execution_count": 4,
     "metadata": {},
     "output_type": "execute_result"
    }
   ],
   "source": [
    "dados.head()"
   ]
  },
  {
   "cell_type": "code",
   "execution_count": 5,
   "id": "84f6819c-0d07-428c-b8cf-85ff03224ea0",
   "metadata": {},
   "outputs": [],
   "source": [
    "dados['age'] = 'Faixa' + dados['age'].astype(str)"
   ]
  },
  {
   "cell_type": "code",
   "execution_count": 6,
   "id": "da3164ea-83d5-4028-ade2-56e6a192df3b",
   "metadata": {},
   "outputs": [
    {
     "data": {
      "text/html": [
       "<div>\n",
       "<style scoped>\n",
       "    .dataframe tbody tr th:only-of-type {\n",
       "        vertical-align: middle;\n",
       "    }\n",
       "\n",
       "    .dataframe tbody tr th {\n",
       "        vertical-align: top;\n",
       "    }\n",
       "\n",
       "    .dataframe thead th {\n",
       "        text-align: right;\n",
       "    }\n",
       "</style>\n",
       "<table border=\"1\" class=\"dataframe\">\n",
       "  <thead>\n",
       "    <tr style=\"text-align: right;\">\n",
       "      <th></th>\n",
       "      <th>age</th>\n",
       "      <th>workclass</th>\n",
       "      <th>final-weight</th>\n",
       "      <th>education</th>\n",
       "      <th>education-num</th>\n",
       "      <th>marital-status</th>\n",
       "      <th>occupation</th>\n",
       "      <th>relationship</th>\n",
       "      <th>race</th>\n",
       "      <th>sex</th>\n",
       "      <th>capital-gain</th>\n",
       "      <th>capital-loos</th>\n",
       "      <th>hour-per-week</th>\n",
       "      <th>native-country</th>\n",
       "      <th>income</th>\n",
       "    </tr>\n",
       "  </thead>\n",
       "  <tbody>\n",
       "    <tr>\n",
       "      <th>0</th>\n",
       "      <td>Faixa39</td>\n",
       "      <td>State-gov</td>\n",
       "      <td>77516</td>\n",
       "      <td>Bachelors</td>\n",
       "      <td>13</td>\n",
       "      <td>Never-married</td>\n",
       "      <td>Adm-clerical</td>\n",
       "      <td>Not-in-family</td>\n",
       "      <td>White</td>\n",
       "      <td>Male</td>\n",
       "      <td>2174</td>\n",
       "      <td>0</td>\n",
       "      <td>40</td>\n",
       "      <td>United-States</td>\n",
       "      <td>&lt;=50K</td>\n",
       "    </tr>\n",
       "    <tr>\n",
       "      <th>1</th>\n",
       "      <td>Faixa50</td>\n",
       "      <td>Self-emp-not-inc</td>\n",
       "      <td>83311</td>\n",
       "      <td>Bachelors</td>\n",
       "      <td>13</td>\n",
       "      <td>Married-civ-spouse</td>\n",
       "      <td>Exec-managerial</td>\n",
       "      <td>Husband</td>\n",
       "      <td>White</td>\n",
       "      <td>Male</td>\n",
       "      <td>0</td>\n",
       "      <td>0</td>\n",
       "      <td>13</td>\n",
       "      <td>United-States</td>\n",
       "      <td>&lt;=50K</td>\n",
       "    </tr>\n",
       "    <tr>\n",
       "      <th>2</th>\n",
       "      <td>Faixa38</td>\n",
       "      <td>Private</td>\n",
       "      <td>215646</td>\n",
       "      <td>HS-grad</td>\n",
       "      <td>9</td>\n",
       "      <td>Divorced</td>\n",
       "      <td>Handlers-cleaners</td>\n",
       "      <td>Not-in-family</td>\n",
       "      <td>White</td>\n",
       "      <td>Male</td>\n",
       "      <td>0</td>\n",
       "      <td>0</td>\n",
       "      <td>40</td>\n",
       "      <td>United-States</td>\n",
       "      <td>&lt;=50K</td>\n",
       "    </tr>\n",
       "    <tr>\n",
       "      <th>3</th>\n",
       "      <td>Faixa53</td>\n",
       "      <td>Private</td>\n",
       "      <td>234721</td>\n",
       "      <td>11th</td>\n",
       "      <td>7</td>\n",
       "      <td>Married-civ-spouse</td>\n",
       "      <td>Handlers-cleaners</td>\n",
       "      <td>Husband</td>\n",
       "      <td>Black</td>\n",
       "      <td>Male</td>\n",
       "      <td>0</td>\n",
       "      <td>0</td>\n",
       "      <td>40</td>\n",
       "      <td>United-States</td>\n",
       "      <td>&lt;=50K</td>\n",
       "    </tr>\n",
       "    <tr>\n",
       "      <th>4</th>\n",
       "      <td>Faixa28</td>\n",
       "      <td>Private</td>\n",
       "      <td>338409</td>\n",
       "      <td>Bachelors</td>\n",
       "      <td>13</td>\n",
       "      <td>Married-civ-spouse</td>\n",
       "      <td>Prof-specialty</td>\n",
       "      <td>Wife</td>\n",
       "      <td>Black</td>\n",
       "      <td>Female</td>\n",
       "      <td>0</td>\n",
       "      <td>0</td>\n",
       "      <td>40</td>\n",
       "      <td>Cuba</td>\n",
       "      <td>&lt;=50K</td>\n",
       "    </tr>\n",
       "  </tbody>\n",
       "</table>\n",
       "</div>"
      ],
      "text/plain": [
       "       age          workclass  final-weight   education  education-num  \\\n",
       "0  Faixa39          State-gov         77516   Bachelors             13   \n",
       "1  Faixa50   Self-emp-not-inc         83311   Bachelors             13   \n",
       "2  Faixa38            Private        215646     HS-grad              9   \n",
       "3  Faixa53            Private        234721        11th              7   \n",
       "4  Faixa28            Private        338409   Bachelors             13   \n",
       "\n",
       "        marital-status          occupation    relationship    race      sex  \\\n",
       "0        Never-married        Adm-clerical   Not-in-family   White     Male   \n",
       "1   Married-civ-spouse     Exec-managerial         Husband   White     Male   \n",
       "2             Divorced   Handlers-cleaners   Not-in-family   White     Male   \n",
       "3   Married-civ-spouse   Handlers-cleaners         Husband   Black     Male   \n",
       "4   Married-civ-spouse      Prof-specialty            Wife   Black   Female   \n",
       "\n",
       "   capital-gain  capital-loos  hour-per-week  native-country  income  \n",
       "0          2174             0             40   United-States   <=50K  \n",
       "1             0             0             13   United-States   <=50K  \n",
       "2             0             0             40   United-States   <=50K  \n",
       "3             0             0             40   United-States   <=50K  \n",
       "4             0             0             40            Cuba   <=50K  "
      ]
     },
     "execution_count": 6,
     "metadata": {},
     "output_type": "execute_result"
    }
   ],
   "source": [
    "dados.head()"
   ]
  },
  {
   "cell_type": "code",
   "execution_count": 7,
   "id": "a35d2c54-3ab9-4127-b6dd-e7f260ac91e6",
   "metadata": {},
   "outputs": [],
   "source": [
    "dados_apriori = pd.DataFrame(dados.iloc[:, [0, 1, 3, 5, 6, 7, 9, 13, -1]])"
   ]
  },
  {
   "cell_type": "code",
   "execution_count": 8,
   "id": "4bac3d87-eb83-47f8-8d19-b45c339fa8ee",
   "metadata": {},
   "outputs": [
    {
     "data": {
      "text/html": [
       "<div>\n",
       "<style scoped>\n",
       "    .dataframe tbody tr th:only-of-type {\n",
       "        vertical-align: middle;\n",
       "    }\n",
       "\n",
       "    .dataframe tbody tr th {\n",
       "        vertical-align: top;\n",
       "    }\n",
       "\n",
       "    .dataframe thead th {\n",
       "        text-align: right;\n",
       "    }\n",
       "</style>\n",
       "<table border=\"1\" class=\"dataframe\">\n",
       "  <thead>\n",
       "    <tr style=\"text-align: right;\">\n",
       "      <th></th>\n",
       "      <th>age</th>\n",
       "      <th>workclass</th>\n",
       "      <th>education</th>\n",
       "      <th>marital-status</th>\n",
       "      <th>occupation</th>\n",
       "      <th>relationship</th>\n",
       "      <th>sex</th>\n",
       "      <th>native-country</th>\n",
       "      <th>income</th>\n",
       "    </tr>\n",
       "  </thead>\n",
       "  <tbody>\n",
       "    <tr>\n",
       "      <th>0</th>\n",
       "      <td>Faixa39</td>\n",
       "      <td>State-gov</td>\n",
       "      <td>Bachelors</td>\n",
       "      <td>Never-married</td>\n",
       "      <td>Adm-clerical</td>\n",
       "      <td>Not-in-family</td>\n",
       "      <td>Male</td>\n",
       "      <td>United-States</td>\n",
       "      <td>&lt;=50K</td>\n",
       "    </tr>\n",
       "    <tr>\n",
       "      <th>1</th>\n",
       "      <td>Faixa50</td>\n",
       "      <td>Self-emp-not-inc</td>\n",
       "      <td>Bachelors</td>\n",
       "      <td>Married-civ-spouse</td>\n",
       "      <td>Exec-managerial</td>\n",
       "      <td>Husband</td>\n",
       "      <td>Male</td>\n",
       "      <td>United-States</td>\n",
       "      <td>&lt;=50K</td>\n",
       "    </tr>\n",
       "    <tr>\n",
       "      <th>2</th>\n",
       "      <td>Faixa38</td>\n",
       "      <td>Private</td>\n",
       "      <td>HS-grad</td>\n",
       "      <td>Divorced</td>\n",
       "      <td>Handlers-cleaners</td>\n",
       "      <td>Not-in-family</td>\n",
       "      <td>Male</td>\n",
       "      <td>United-States</td>\n",
       "      <td>&lt;=50K</td>\n",
       "    </tr>\n",
       "    <tr>\n",
       "      <th>3</th>\n",
       "      <td>Faixa53</td>\n",
       "      <td>Private</td>\n",
       "      <td>11th</td>\n",
       "      <td>Married-civ-spouse</td>\n",
       "      <td>Handlers-cleaners</td>\n",
       "      <td>Husband</td>\n",
       "      <td>Male</td>\n",
       "      <td>United-States</td>\n",
       "      <td>&lt;=50K</td>\n",
       "    </tr>\n",
       "    <tr>\n",
       "      <th>4</th>\n",
       "      <td>Faixa28</td>\n",
       "      <td>Private</td>\n",
       "      <td>Bachelors</td>\n",
       "      <td>Married-civ-spouse</td>\n",
       "      <td>Prof-specialty</td>\n",
       "      <td>Wife</td>\n",
       "      <td>Female</td>\n",
       "      <td>Cuba</td>\n",
       "      <td>&lt;=50K</td>\n",
       "    </tr>\n",
       "  </tbody>\n",
       "</table>\n",
       "</div>"
      ],
      "text/plain": [
       "       age          workclass   education       marital-status  \\\n",
       "0  Faixa39          State-gov   Bachelors        Never-married   \n",
       "1  Faixa50   Self-emp-not-inc   Bachelors   Married-civ-spouse   \n",
       "2  Faixa38            Private     HS-grad             Divorced   \n",
       "3  Faixa53            Private        11th   Married-civ-spouse   \n",
       "4  Faixa28            Private   Bachelors   Married-civ-spouse   \n",
       "\n",
       "           occupation    relationship      sex  native-country  income  \n",
       "0        Adm-clerical   Not-in-family     Male   United-States   <=50K  \n",
       "1     Exec-managerial         Husband     Male   United-States   <=50K  \n",
       "2   Handlers-cleaners   Not-in-family     Male   United-States   <=50K  \n",
       "3   Handlers-cleaners         Husband     Male   United-States   <=50K  \n",
       "4      Prof-specialty            Wife   Female            Cuba   <=50K  "
      ]
     },
     "execution_count": 8,
     "metadata": {},
     "output_type": "execute_result"
    }
   ],
   "source": [
    "dados_apriori.head()"
   ]
  },
  {
   "cell_type": "code",
   "execution_count": 9,
   "id": "4b6bffb9-ccd6-4916-92c0-a4d4419a58d0",
   "metadata": {},
   "outputs": [
    {
     "data": {
      "text/plain": [
       "(32561, 9)"
      ]
     },
     "execution_count": 9,
     "metadata": {},
     "output_type": "execute_result"
    }
   ],
   "source": [
    "dados_apriori.shape"
   ]
  },
  {
   "cell_type": "code",
   "execution_count": 10,
   "id": "25f4aaeb-1015-4dcd-ab4d-e76fefc94355",
   "metadata": {},
   "outputs": [
    {
     "data": {
      "text/plain": [
       "(1000, 9)"
      ]
     },
     "execution_count": 10,
     "metadata": {},
     "output_type": "execute_result"
    }
   ],
   "source": [
    "# Pegar uma amostra\n",
    "dados_apriori = dados_apriori.sample(n = 1000)\n",
    "dados_apriori.shape"
   ]
  },
  {
   "cell_type": "code",
   "execution_count": 11,
   "id": "6ded999b-d8ca-495b-8966-1e68419d2c33",
   "metadata": {},
   "outputs": [],
   "source": [
    "X = dados_apriori.iloc[:,:].values"
   ]
  },
  {
   "cell_type": "code",
   "execution_count": 12,
   "id": "bc6290c2-7759-48b0-9bd0-14c89f10754d",
   "metadata": {},
   "outputs": [
    {
     "data": {
      "text/plain": [
       "array([['Faixa29', ' Private', ' 10th', ' Never-married',\n",
       "        ' Craft-repair', ' Not-in-family', ' Male', ' ?', ' <=50K'],\n",
       "       ['Faixa23', ' State-gov', ' Some-college', ' Married-civ-spouse',\n",
       "        ' Adm-clerical', ' Husband', ' Male', ' Vietnam', ' <=50K']],\n",
       "      dtype=object)"
      ]
     },
     "execution_count": 12,
     "metadata": {},
     "output_type": "execute_result"
    }
   ],
   "source": [
    "X[:2]"
   ]
  },
  {
   "cell_type": "code",
   "execution_count": 13,
   "id": "b839770b-25a5-4c09-9a6b-c8350f4c254b",
   "metadata": {},
   "outputs": [],
   "source": [
    "from apyori import apriori\n",
    "regras = apriori(X, min_support = 0.3, min_confidence = 0.2)\n",
    "resultado = list(regras)"
   ]
  },
  {
   "cell_type": "code",
   "execution_count": 14,
   "id": "33503e5e-34b5-45df-9db7-eca9ed562e65",
   "metadata": {},
   "outputs": [
    {
     "data": {
      "text/plain": [
       "36"
      ]
     },
     "execution_count": 14,
     "metadata": {},
     "output_type": "execute_result"
    }
   ],
   "source": [
    "len(resultado)"
   ]
  },
  {
   "cell_type": "code",
   "execution_count": 15,
   "id": "cc1a7a3c-e767-4387-9441-b7a75a52684c",
   "metadata": {},
   "outputs": [
    {
     "data": {
      "text/plain": [
       "[RelationRecord(items=frozenset({' <=50K'}), support=0.753, ordered_statistics=[OrderedStatistic(items_base=frozenset(), items_add=frozenset({' <=50K'}), confidence=0.753, lift=1.0)]),\n",
       " RelationRecord(items=frozenset({' Female'}), support=0.335, ordered_statistics=[OrderedStatistic(items_base=frozenset(), items_add=frozenset({' Female'}), confidence=0.335, lift=1.0)]),\n",
       " RelationRecord(items=frozenset({' HS-grad'}), support=0.344, ordered_statistics=[OrderedStatistic(items_base=frozenset(), items_add=frozenset({' HS-grad'}), confidence=0.344, lift=1.0)]),\n",
       " RelationRecord(items=frozenset({' Husband'}), support=0.398, ordered_statistics=[OrderedStatistic(items_base=frozenset(), items_add=frozenset({' Husband'}), confidence=0.398, lift=1.0)]),\n",
       " RelationRecord(items=frozenset({' Male'}), support=0.665, ordered_statistics=[OrderedStatistic(items_base=frozenset(), items_add=frozenset({' Male'}), confidence=0.665, lift=1.0)]),\n",
       " RelationRecord(items=frozenset({' Married-civ-spouse'}), support=0.452, ordered_statistics=[OrderedStatistic(items_base=frozenset(), items_add=frozenset({' Married-civ-spouse'}), confidence=0.452, lift=1.0)]),\n",
       " RelationRecord(items=frozenset({' Never-married'}), support=0.346, ordered_statistics=[OrderedStatistic(items_base=frozenset(), items_add=frozenset({' Never-married'}), confidence=0.346, lift=1.0)]),\n",
       " RelationRecord(items=frozenset({' Private'}), support=0.716, ordered_statistics=[OrderedStatistic(items_base=frozenset(), items_add=frozenset({' Private'}), confidence=0.716, lift=1.0)]),\n",
       " RelationRecord(items=frozenset({' United-States'}), support=0.908, ordered_statistics=[OrderedStatistic(items_base=frozenset(), items_add=frozenset({' United-States'}), confidence=0.908, lift=1.0)]),\n",
       " RelationRecord(items=frozenset({' <=50K', ' Female'}), support=0.303, ordered_statistics=[OrderedStatistic(items_base=frozenset(), items_add=frozenset({' <=50K', ' Female'}), confidence=0.303, lift=1.0), OrderedStatistic(items_base=frozenset({' <=50K'}), items_add=frozenset({' Female'}), confidence=0.40239043824701193, lift=1.2011654873045132), OrderedStatistic(items_base=frozenset({' Female'}), items_add=frozenset({' <=50K'}), confidence=0.9044776119402984, lift=1.2011654873045132)]),\n",
       " RelationRecord(items=frozenset({' <=50K', ' Male'}), support=0.45, ordered_statistics=[OrderedStatistic(items_base=frozenset(), items_add=frozenset({' <=50K', ' Male'}), confidence=0.45, lift=1.0), OrderedStatistic(items_base=frozenset({' <=50K'}), items_add=frozenset({' Male'}), confidence=0.5976095617529881, lift=0.8986609951172753), OrderedStatistic(items_base=frozenset({' Male'}), items_add=frozenset({' <=50K'}), confidence=0.6766917293233082, lift=0.8986609951172752)]),\n",
       " RelationRecord(items=frozenset({' <=50K', ' Never-married'}), support=0.328, ordered_statistics=[OrderedStatistic(items_base=frozenset(), items_add=frozenset({' <=50K', ' Never-married'}), confidence=0.328, lift=1.0), OrderedStatistic(items_base=frozenset({' <=50K'}), items_add=frozenset({' Never-married'}), confidence=0.4355909694555113, lift=1.2589334377326917), OrderedStatistic(items_base=frozenset({' Never-married'}), items_add=frozenset({' <=50K'}), confidence=0.9479768786127168, lift=1.2589334377326917)]),\n",
       " RelationRecord(items=frozenset({' <=50K', ' Private'}), support=0.554, ordered_statistics=[OrderedStatistic(items_base=frozenset(), items_add=frozenset({' <=50K', ' Private'}), confidence=0.554, lift=1.0), OrderedStatistic(items_base=frozenset({' <=50K'}), items_add=frozenset({' Private'}), confidence=0.7357237715803453, lift=1.0275471670116554), OrderedStatistic(items_base=frozenset({' Private'}), items_add=frozenset({' <=50K'}), confidence=0.7737430167597766, lift=1.0275471670116556)]),\n",
       " RelationRecord(items=frozenset({' United-States', ' <=50K'}), support=0.678, ordered_statistics=[OrderedStatistic(items_base=frozenset(), items_add=frozenset({' United-States', ' <=50K'}), confidence=0.678, lift=1.0), OrderedStatistic(items_base=frozenset({' <=50K'}), items_add=frozenset({' United-States'}), confidence=0.9003984063745021, lift=0.9916282008529759), OrderedStatistic(items_base=frozenset({' United-States'}), items_add=frozenset({' <=50K'}), confidence=0.7466960352422908, lift=0.9916282008529758)]),\n",
       " RelationRecord(items=frozenset({' United-States', ' Female'}), support=0.308, ordered_statistics=[OrderedStatistic(items_base=frozenset(), items_add=frozenset({' United-States', ' Female'}), confidence=0.308, lift=1.0), OrderedStatistic(items_base=frozenset({' Female'}), items_add=frozenset({' United-States'}), confidence=0.9194029850746268, lift=1.012558353606417), OrderedStatistic(items_base=frozenset({' United-States'}), items_add=frozenset({' Female'}), confidence=0.33920704845814975, lift=1.012558353606417)]),\n",
       " RelationRecord(items=frozenset({' United-States', ' HS-grad'}), support=0.324, ordered_statistics=[OrderedStatistic(items_base=frozenset(), items_add=frozenset({' United-States', ' HS-grad'}), confidence=0.324, lift=1.0), OrderedStatistic(items_base=frozenset({' HS-grad'}), items_add=frozenset({' United-States'}), confidence=0.9418604651162792, lift=1.0372912611412766), OrderedStatistic(items_base=frozenset({' United-States'}), items_add=frozenset({' HS-grad'}), confidence=0.3568281938325991, lift=1.0372912611412766)]),\n",
       " RelationRecord(items=frozenset({' Male', ' Husband'}), support=0.398, ordered_statistics=[OrderedStatistic(items_base=frozenset(), items_add=frozenset({' Male', ' Husband'}), confidence=0.398, lift=1.0), OrderedStatistic(items_base=frozenset({' Husband'}), items_add=frozenset({' Male'}), confidence=1.0, lift=1.5037593984962405), OrderedStatistic(items_base=frozenset({' Male'}), items_add=frozenset({' Husband'}), confidence=0.5984962406015037, lift=1.5037593984962405)]),\n",
       " RelationRecord(items=frozenset({' Married-civ-spouse', ' Husband'}), support=0.397, ordered_statistics=[OrderedStatistic(items_base=frozenset(), items_add=frozenset({' Married-civ-spouse', ' Husband'}), confidence=0.397, lift=1.0), OrderedStatistic(items_base=frozenset({' Husband'}), items_add=frozenset({' Married-civ-spouse'}), confidence=0.9974874371859297, lift=2.2068306132432074), OrderedStatistic(items_base=frozenset({' Married-civ-spouse'}), items_add=frozenset({' Husband'}), confidence=0.8783185840707964, lift=2.206830613243207)]),\n",
       " RelationRecord(items=frozenset({' United-States', ' Husband'}), support=0.362, ordered_statistics=[OrderedStatistic(items_base=frozenset(), items_add=frozenset({' United-States', ' Husband'}), confidence=0.362, lift=1.0), OrderedStatistic(items_base=frozenset({' Husband'}), items_add=frozenset({' United-States'}), confidence=0.9095477386934673, lift=1.0017045580324528), OrderedStatistic(items_base=frozenset({' United-States'}), items_add=frozenset({' Husband'}), confidence=0.3986784140969163, lift=1.0017045580324528)]),\n",
       " RelationRecord(items=frozenset({' Married-civ-spouse', ' Male'}), support=0.399, ordered_statistics=[OrderedStatistic(items_base=frozenset(), items_add=frozenset({' Male', ' Married-civ-spouse'}), confidence=0.399, lift=1.0), OrderedStatistic(items_base=frozenset({' Male'}), items_add=frozenset({' Married-civ-spouse'}), confidence=0.6, lift=1.327433628318584), OrderedStatistic(items_base=frozenset({' Married-civ-spouse'}), items_add=frozenset({' Male'}), confidence=0.8827433628318584, lift=1.327433628318584)]),\n",
       " RelationRecord(items=frozenset({' Private', ' Male'}), support=0.464, ordered_statistics=[OrderedStatistic(items_base=frozenset(), items_add=frozenset({' Private', ' Male'}), confidence=0.464, lift=1.0), OrderedStatistic(items_base=frozenset({' Male'}), items_add=frozenset({' Private'}), confidence=0.6977443609022557, lift=0.9745032973495191), OrderedStatistic(items_base=frozenset({' Private'}), items_add=frozenset({' Male'}), confidence=0.6480446927374303, lift=0.9745032973495191)]),\n",
       " RelationRecord(items=frozenset({' United-States', ' Male'}), support=0.6, ordered_statistics=[OrderedStatistic(items_base=frozenset(), items_add=frozenset({' United-States', ' Male'}), confidence=0.6, lift=1.0), OrderedStatistic(items_base=frozenset({' Male'}), items_add=frozenset({' United-States'}), confidence=0.9022556390977443, lift=0.9936736113411281), OrderedStatistic(items_base=frozenset({' United-States'}), items_add=frozenset({' Male'}), confidence=0.6607929515418501, lift=0.993673611341128)]),\n",
       " RelationRecord(items=frozenset({' Private', ' Married-civ-spouse'}), support=0.301, ordered_statistics=[OrderedStatistic(items_base=frozenset(), items_add=frozenset({' Private', ' Married-civ-spouse'}), confidence=0.301, lift=1.0), OrderedStatistic(items_base=frozenset({' Married-civ-spouse'}), items_add=frozenset({' Private'}), confidence=0.665929203539823, lift=0.9300687200276858), OrderedStatistic(items_base=frozenset({' Private'}), items_add=frozenset({' Married-civ-spouse'}), confidence=0.420391061452514, lift=0.9300687200276858)]),\n",
       " RelationRecord(items=frozenset({' United-States', ' Married-civ-spouse'}), support=0.405, ordered_statistics=[OrderedStatistic(items_base=frozenset(), items_add=frozenset({' United-States', ' Married-civ-spouse'}), confidence=0.405, lift=1.0), OrderedStatistic(items_base=frozenset({' Married-civ-spouse'}), items_add=frozenset({' United-States'}), confidence=0.8960176991150443, lift=0.9868036333866126), OrderedStatistic(items_base=frozenset({' United-States'}), items_add=frozenset({' Married-civ-spouse'}), confidence=0.4460352422907489, lift=0.9868036333866126)]),\n",
       " RelationRecord(items=frozenset({' United-States', ' Never-married'}), support=0.318, ordered_statistics=[OrderedStatistic(items_base=frozenset(), items_add=frozenset({' United-States', ' Never-married'}), confidence=0.318, lift=1.0), OrderedStatistic(items_base=frozenset({' Never-married'}), items_add=frozenset({' United-States'}), confidence=0.9190751445086706, lift=1.0121972957143948), OrderedStatistic(items_base=frozenset({' United-States'}), items_add=frozenset({' Never-married'}), confidence=0.3502202643171806, lift=1.012197295714395)]),\n",
       " RelationRecord(items=frozenset({' United-States', ' Private'}), support=0.648, ordered_statistics=[OrderedStatistic(items_base=frozenset(), items_add=frozenset({' United-States', ' Private'}), confidence=0.648, lift=1.0), OrderedStatistic(items_base=frozenset({' Private'}), items_add=frozenset({' United-States'}), confidence=0.9050279329608939, lift=0.9967267984150814), OrderedStatistic(items_base=frozenset({' United-States'}), items_add=frozenset({' Private'}), confidence=0.7136563876651982, lift=0.9967267984150814)]),\n",
       " RelationRecord(items=frozenset({' <=50K', ' Private', ' Male'}), support=0.322, ordered_statistics=[OrderedStatistic(items_base=frozenset(), items_add=frozenset({' <=50K', ' Private', ' Male'}), confidence=0.322, lift=1.0), OrderedStatistic(items_base=frozenset({' <=50K'}), items_add=frozenset({' Private', ' Male'}), confidence=0.42762284196547146, lift=0.9216009525117919), OrderedStatistic(items_base=frozenset({' Male'}), items_add=frozenset({' <=50K', ' Private'}), confidence=0.4842105263157895, lift=0.8740262207866235), OrderedStatistic(items_base=frozenset({' Private'}), items_add=frozenset({' <=50K', ' Male'}), confidence=0.4497206703910615, lift=0.9993792675356922), OrderedStatistic(items_base=frozenset({' <=50K', ' Male'}), items_add=frozenset({' Private'}), confidence=0.7155555555555556, lift=0.9993792675356923), OrderedStatistic(items_base=frozenset({' <=50K', ' Private'}), items_add=frozenset({' Male'}), confidence=0.5812274368231046, lift=0.8740262207866234), OrderedStatistic(items_base=frozenset({' Private', ' Male'}), items_add=frozenset({' <=50K'}), confidence=0.6939655172413793, lift=0.921600952511792)]),\n",
       " RelationRecord(items=frozenset({' United-States', ' <=50K', ' Male'}), support=0.4, ordered_statistics=[OrderedStatistic(items_base=frozenset(), items_add=frozenset({' United-States', ' <=50K', ' Male'}), confidence=0.4, lift=1.0), OrderedStatistic(items_base=frozenset({' <=50K'}), items_add=frozenset({' United-States', ' Male'}), confidence=0.5312084993359893, lift=0.8853474988933157), OrderedStatistic(items_base=frozenset({' Male'}), items_add=frozenset({' United-States', ' <=50K'}), confidence=0.6015037593984962, lift=0.8871736864284604), OrderedStatistic(items_base=frozenset({' United-States'}), items_add=frozenset({' <=50K', ' Male'}), confidence=0.4405286343612335, lift=0.9789525208027411), OrderedStatistic(items_base=frozenset({' <=50K', ' Male'}), items_add=frozenset({' United-States'}), confidence=0.888888888888889, lift=0.9789525208027411), OrderedStatistic(items_base=frozenset({' United-States', ' <=50K'}), items_add=frozenset({' Male'}), confidence=0.5899705014749262, lift=0.8871736864284605), OrderedStatistic(items_base=frozenset({' United-States', ' Male'}), items_add=frozenset({' <=50K'}), confidence=0.6666666666666667, lift=0.8853474988933158)]),\n",
       " RelationRecord(items=frozenset({' United-States', ' <=50K', ' Never-married'}), support=0.3, ordered_statistics=[OrderedStatistic(items_base=frozenset(), items_add=frozenset({' United-States', ' <=50K', ' Never-married'}), confidence=0.3, lift=1.0), OrderedStatistic(items_base=frozenset({' <=50K'}), items_add=frozenset({' United-States', ' Never-married'}), confidence=0.398406374501992, lift=1.2528502342829937), OrderedStatistic(items_base=frozenset({' Never-married'}), items_add=frozenset({' United-States', ' <=50K'}), confidence=0.8670520231213873, lift=1.2788377922144354), OrderedStatistic(items_base=frozenset({' United-States'}), items_add=frozenset({' <=50K', ' Never-married'}), confidence=0.33039647577092507, lift=1.0073063285698935), OrderedStatistic(items_base=frozenset({' <=50K', ' Never-married'}), items_add=frozenset({' United-States'}), confidence=0.9146341463414633, lift=1.0073063285698935), OrderedStatistic(items_base=frozenset({' United-States', ' <=50K'}), items_add=frozenset({' Never-married'}), confidence=0.44247787610619466, lift=1.2788377922144356), OrderedStatistic(items_base=frozenset({' United-States', ' Never-married'}), items_add=frozenset({' <=50K'}), confidence=0.9433962264150942, lift=1.2528502342829937)]),\n",
       " RelationRecord(items=frozenset({' United-States', ' <=50K', ' Private'}), support=0.495, ordered_statistics=[OrderedStatistic(items_base=frozenset(), items_add=frozenset({' United-States', ' <=50K', ' Private'}), confidence=0.495, lift=1.0), OrderedStatistic(items_base=frozenset({' <=50K'}), items_add=frozenset({' United-States', ' Private'}), confidence=0.6573705179282868, lift=1.0144606758152575), OrderedStatistic(items_base=frozenset({' Private'}), items_add=frozenset({' United-States', ' <=50K'}), confidence=0.6913407821229051, lift=1.019676669797795), OrderedStatistic(items_base=frozenset({' United-States'}), items_add=frozenset({' <=50K', ' Private'}), confidence=0.5451541850220264, lift=0.9840328249495061), OrderedStatistic(items_base=frozenset({' <=50K', ' Private'}), items_add=frozenset({' United-States'}), confidence=0.8935018050541516, lift=0.9840328249495061), OrderedStatistic(items_base=frozenset({' United-States', ' <=50K'}), items_add=frozenset({' Private'}), confidence=0.7300884955752212, lift=1.019676669797795), OrderedStatistic(items_base=frozenset({' United-States', ' Private'}), items_add=frozenset({' <=50K'}), confidence=0.7638888888888888, lift=1.0144606758152575)]),\n",
       " RelationRecord(items=frozenset({' Married-civ-spouse', ' Male', ' Husband'}), support=0.397, ordered_statistics=[OrderedStatistic(items_base=frozenset(), items_add=frozenset({' Male', ' Married-civ-spouse', ' Husband'}), confidence=0.397, lift=1.0), OrderedStatistic(items_base=frozenset({' Husband'}), items_add=frozenset({' Male', ' Married-civ-spouse'}), confidence=0.9974874371859297, lift=2.49996851425045), OrderedStatistic(items_base=frozenset({' Male'}), items_add=frozenset({' Married-civ-spouse', ' Husband'}), confidence=0.5969924812030075, lift=1.5037593984962405), OrderedStatistic(items_base=frozenset({' Married-civ-spouse'}), items_add=frozenset({' Male', ' Husband'}), confidence=0.8783185840707964, lift=2.206830613243207), OrderedStatistic(items_base=frozenset({' Male', ' Husband'}), items_add=frozenset({' Married-civ-spouse'}), confidence=0.9974874371859297, lift=2.2068306132432074), OrderedStatistic(items_base=frozenset({' Married-civ-spouse', ' Husband'}), items_add=frozenset({' Male'}), confidence=1.0, lift=1.5037593984962405), OrderedStatistic(items_base=frozenset({' Married-civ-spouse', ' Male'}), items_add=frozenset({' Husband'}), confidence=0.9949874686716792, lift=2.49996851425045)]),\n",
       " RelationRecord(items=frozenset({' United-States', ' Male', ' Husband'}), support=0.362, ordered_statistics=[OrderedStatistic(items_base=frozenset(), items_add=frozenset({' United-States', ' Male', ' Husband'}), confidence=0.362, lift=1.0), OrderedStatistic(items_base=frozenset({' Husband'}), items_add=frozenset({' United-States', ' Male'}), confidence=0.9095477386934673, lift=1.5159128978224454), OrderedStatistic(items_base=frozenset({' Male'}), items_add=frozenset({' United-States', ' Husband'}), confidence=0.544360902255639, lift=1.5037593984962405), OrderedStatistic(items_base=frozenset({' United-States'}), items_add=frozenset({' Male', ' Husband'}), confidence=0.3986784140969163, lift=1.0017045580324528), OrderedStatistic(items_base=frozenset({' Male', ' Husband'}), items_add=frozenset({' United-States'}), confidence=0.9095477386934673, lift=1.0017045580324528), OrderedStatistic(items_base=frozenset({' United-States', ' Husband'}), items_add=frozenset({' Male'}), confidence=1.0, lift=1.5037593984962405), OrderedStatistic(items_base=frozenset({' United-States', ' Male'}), items_add=frozenset({' Husband'}), confidence=0.6033333333333334, lift=1.5159128978224456)]),\n",
       " RelationRecord(items=frozenset({' United-States', ' Married-civ-spouse', ' Husband'}), support=0.361, ordered_statistics=[OrderedStatistic(items_base=frozenset(), items_add=frozenset({' United-States', ' Married-civ-spouse', ' Husband'}), confidence=0.361, lift=1.0), OrderedStatistic(items_base=frozenset({' Husband'}), items_add=frozenset({' United-States', ' Married-civ-spouse'}), confidence=0.9070351758793969, lift=2.2395930268627082), OrderedStatistic(items_base=frozenset({' Married-civ-spouse'}), items_add=frozenset({' United-States', ' Husband'}), confidence=0.7986725663716814, lift=2.2062778076565785), OrderedStatistic(items_base=frozenset({' United-States'}), items_add=frozenset({' Married-civ-spouse', ' Husband'}), confidence=0.3975770925110132, lift=1.0014536335290005), OrderedStatistic(items_base=frozenset({' Married-civ-spouse', ' Husband'}), items_add=frozenset({' United-States'}), confidence=0.9093198992443324, lift=1.0014536335290005), OrderedStatistic(items_base=frozenset({' United-States', ' Husband'}), items_add=frozenset({' Married-civ-spouse'}), confidence=0.9972375690607734, lift=2.2062778076565785), OrderedStatistic(items_base=frozenset({' United-States', ' Married-civ-spouse'}), items_add=frozenset({' Husband'}), confidence=0.8913580246913579, lift=2.2395930268627082)]),\n",
       " RelationRecord(items=frozenset({' United-States', ' Married-civ-spouse', ' Male'}), support=0.362, ordered_statistics=[OrderedStatistic(items_base=frozenset(), items_add=frozenset({' United-States', ' Male', ' Married-civ-spouse'}), confidence=0.362, lift=1.0), OrderedStatistic(items_base=frozenset({' Male'}), items_add=frozenset({' United-States', ' Married-civ-spouse'}), confidence=0.544360902255639, lift=1.3441009932238), OrderedStatistic(items_base=frozenset({' Married-civ-spouse'}), items_add=frozenset({' United-States', ' Male'}), confidence=0.8008849557522123, lift=1.3348082595870205), OrderedStatistic(items_base=frozenset({' United-States'}), items_add=frozenset({' Male', ' Married-civ-spouse'}), confidence=0.3986784140969163, lift=0.9991940202930232), OrderedStatistic(items_base=frozenset({' Married-civ-spouse', ' Male'}), items_add=frozenset({' United-States'}), confidence=0.9072681704260651, lift=0.9991940202930232), OrderedStatistic(items_base=frozenset({' United-States', ' Male'}), items_add=frozenset({' Married-civ-spouse'}), confidence=0.6033333333333334, lift=1.3348082595870208), OrderedStatistic(items_base=frozenset({' United-States', ' Married-civ-spouse'}), items_add=frozenset({' Male'}), confidence=0.893827160493827, lift=1.3441009932238)]),\n",
       " RelationRecord(items=frozenset({' United-States', ' Private', ' Male'}), support=0.417, ordered_statistics=[OrderedStatistic(items_base=frozenset(), items_add=frozenset({' United-States', ' Private', ' Male'}), confidence=0.417, lift=1.0), OrderedStatistic(items_base=frozenset({' Male'}), items_add=frozenset({' United-States', ' Private'}), confidence=0.6270676691729322, lift=0.9676970203285991), OrderedStatistic(items_base=frozenset({' Private'}), items_add=frozenset({' United-States', ' Male'}), confidence=0.5824022346368715, lift=0.9706703910614525), OrderedStatistic(items_base=frozenset({' United-States'}), items_add=frozenset({' Private', ' Male'}), confidence=0.45925110132158586, lift=0.9897653045723833), OrderedStatistic(items_base=frozenset({' Private', ' Male'}), items_add=frozenset({' United-States'}), confidence=0.8987068965517241, lift=0.9897653045723833), OrderedStatistic(items_base=frozenset({' United-States', ' Male'}), items_add=frozenset({' Private'}), confidence=0.695, lift=0.9706703910614525), OrderedStatistic(items_base=frozenset({' United-States', ' Private'}), items_add=frozenset({' Male'}), confidence=0.6435185185185185, lift=0.9676970203285992)]),\n",
       " RelationRecord(items=frozenset({' United-States', ' Married-civ-spouse', ' Male', ' Husband'}), support=0.361, ordered_statistics=[OrderedStatistic(items_base=frozenset(), items_add=frozenset({' United-States', ' Married-civ-spouse', ' Male', ' Husband'}), confidence=0.361, lift=1.0), OrderedStatistic(items_base=frozenset({' Husband'}), items_add=frozenset({' United-States', ' Male', ' Married-civ-spouse'}), confidence=0.9070351758793969, lift=2.5056220328160137), OrderedStatistic(items_base=frozenset({' Male'}), items_add=frozenset({' United-States', ' Married-civ-spouse', ' Husband'}), confidence=0.5428571428571428, lift=1.5037593984962405), OrderedStatistic(items_base=frozenset({' Married-civ-spouse'}), items_add=frozenset({' United-States', ' Male', ' Husband'}), confidence=0.7986725663716814, lift=2.2062778076565785), OrderedStatistic(items_base=frozenset({' United-States'}), items_add=frozenset({' Male', ' Married-civ-spouse', ' Husband'}), confidence=0.3975770925110132, lift=1.0014536335290005), OrderedStatistic(items_base=frozenset({' Male', ' Husband'}), items_add=frozenset({' United-States', ' Married-civ-spouse'}), confidence=0.9070351758793969, lift=2.2395930268627082), OrderedStatistic(items_base=frozenset({' Married-civ-spouse', ' Husband'}), items_add=frozenset({' United-States', ' Male'}), confidence=0.9093198992443324, lift=1.5155331654072208), OrderedStatistic(items_base=frozenset({' United-States', ' Husband'}), items_add=frozenset({' Male', ' Married-civ-spouse'}), confidence=0.9972375690607734, lift=2.499342278347803), OrderedStatistic(items_base=frozenset({' Married-civ-spouse', ' Male'}), items_add=frozenset({' United-States', ' Husband'}), confidence=0.9047619047619047, lift=2.499342278347803), OrderedStatistic(items_base=frozenset({' United-States', ' Male'}), items_add=frozenset({' Married-civ-spouse', ' Husband'}), confidence=0.6016666666666667, lift=1.5155331654072208), OrderedStatistic(items_base=frozenset({' United-States', ' Married-civ-spouse'}), items_add=frozenset({' Male', ' Husband'}), confidence=0.8913580246913579, lift=2.2395930268627082), OrderedStatistic(items_base=frozenset({' Married-civ-spouse', ' Male', ' Husband'}), items_add=frozenset({' United-States'}), confidence=0.9093198992443324, lift=1.0014536335290005), OrderedStatistic(items_base=frozenset({' United-States', ' Male', ' Husband'}), items_add=frozenset({' Married-civ-spouse'}), confidence=0.9972375690607734, lift=2.2062778076565785), OrderedStatistic(items_base=frozenset({' United-States', ' Married-civ-spouse', ' Husband'}), items_add=frozenset({' Male'}), confidence=1.0, lift=1.5037593984962405), OrderedStatistic(items_base=frozenset({' United-States', ' Married-civ-spouse', ' Male'}), items_add=frozenset({' Husband'}), confidence=0.9972375690607734, lift=2.5056220328160137)])]"
      ]
     },
     "execution_count": 15,
     "metadata": {},
     "output_type": "execute_result"
    }
   ],
   "source": [
    "resultado"
   ]
  },
  {
   "cell_type": "code",
   "execution_count": 49,
   "id": "d76b1f08-1fac-4e37-8f78-1c1c1d8ddefd",
   "metadata": {},
   "outputs": [
    {
     "data": {
      "text/plain": [
       "RelationRecord(items=frozenset({' <=50K', ' Male'}), support=0.45, ordered_statistics=[OrderedStatistic(items_base=frozenset(), items_add=frozenset({' <=50K', ' Male'}), confidence=0.45, lift=1.0), OrderedStatistic(items_base=frozenset({' <=50K'}), items_add=frozenset({' Male'}), confidence=0.5976095617529881, lift=0.8986609951172753), OrderedStatistic(items_base=frozenset({' Male'}), items_add=frozenset({' <=50K'}), confidence=0.6766917293233082, lift=0.8986609951172752)])"
      ]
     },
     "execution_count": 49,
     "metadata": {},
     "output_type": "execute_result"
    }
   ],
   "source": [
    "resultado[10]"
   ]
  },
  {
   "cell_type": "code",
   "execution_count": null,
   "id": "583e647b-b616-4bd6-9134-d3f2b18ab595",
   "metadata": {},
   "outputs": [],
   "source": []
  }
 ],
 "metadata": {
  "kernelspec": {
   "display_name": "Python 3 (ipykernel)",
   "language": "python",
   "name": "python3"
  },
  "language_info": {
   "codemirror_mode": {
    "name": "ipython",
    "version": 3
   },
   "file_extension": ".py",
   "mimetype": "text/x-python",
   "name": "python",
   "nbconvert_exporter": "python",
   "pygments_lexer": "ipython3",
   "version": "3.12.4"
  }
 },
 "nbformat": 4,
 "nbformat_minor": 5
}
