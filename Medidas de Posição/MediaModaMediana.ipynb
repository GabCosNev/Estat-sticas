{
 "cells": [
  {
   "cell_type": "code",
   "execution_count": 15,
   "id": "229c2518-3b15-4bb7-abd0-1325fdfe5af8",
   "metadata": {},
   "outputs": [],
   "source": [
    "import numpy as np\n",
    "import statistics \n",
    "from scipy import stats \n",
    "import math "
   ]
  },
  {
   "cell_type": "code",
   "execution_count": 31,
   "id": "7b934638-ef44-45d6-ae6b-61619788271a",
   "metadata": {},
   "outputs": [],
   "source": [
    "dados = np.array([160, 165, 167, 164, 160, 166, 160, 161, 150, 152, 173, 160, 155,\n",
    "                 164, 168, 162, 161, 168, 163, 156, 155, 169, 151, 170, 164,\n",
    "                 155, 152, 163, 160, 155, 157, 156, 158, 158, 161, 154, 161, 156, 172, 153])"
   ]
  },
  {
   "cell_type": "code",
   "execution_count": 19,
   "id": "20e38d91-f6c3-43ff-8eb5-73538abef666",
   "metadata": {},
   "outputs": [
    {
     "data": {
      "text/plain": [
       "160.375"
      ]
     },
     "execution_count": 19,
     "metadata": {},
     "output_type": "execute_result"
    }
   ],
   "source": [
    "dados.mean()  # Média"
   ]
  },
  {
   "cell_type": "code",
   "execution_count": 29,
   "id": "fd43d4ba-4f90-4b8e-9045-d59fd19f8f35",
   "metadata": {},
   "outputs": [
    {
     "data": {
      "text/plain": [
       "160"
      ]
     },
     "execution_count": 29,
     "metadata": {},
     "output_type": "execute_result"
    }
   ],
   "source": [
    "statistics.mode(dados) # Moda"
   ]
  },
  {
   "cell_type": "code",
   "execution_count": 27,
   "id": "bc6e869d-4d79-475b-a38a-0f31bea592e9",
   "metadata": {},
   "outputs": [
    {
     "data": {
      "text/plain": [
       "ModeResult(mode=155, count=5)"
      ]
     },
     "execution_count": 27,
     "metadata": {},
     "output_type": "execute_result"
    }
   ],
   "source": [
    "stats.mode(dados) # Moda com count"
   ]
  },
  {
   "cell_type": "code",
   "execution_count": 33,
   "id": "b25c07e2-7460-4320-bf82-9ccc73e3f9bb",
   "metadata": {},
   "outputs": [
    {
     "data": {
      "text/plain": [
       "160.0"
      ]
     },
     "execution_count": 33,
     "metadata": {},
     "output_type": "execute_result"
    }
   ],
   "source": [
    "np.median(dados) # Mediana"
   ]
  },
  {
   "cell_type": "code",
   "execution_count": 37,
   "id": "bb0414bf-95aa-4756-9fe3-7530d3922bce",
   "metadata": {},
   "outputs": [],
   "source": [
    "notas = np.array([9, 8, 7, 3])\n",
    "pesos = np.array([1, 2, 3, 4])"
   ]
  },
  {
   "cell_type": "code",
   "execution_count": 45,
   "id": "0b8678a9-d15a-4763-8811-c9400fde4918",
   "metadata": {},
   "outputs": [],
   "source": [
    "media_ponderada = (notas * pesos).sum() / pesos.sum()"
   ]
  },
  {
   "cell_type": "code",
   "execution_count": 47,
   "id": "31f72db9-687e-44f3-892d-62dbf0da59a3",
   "metadata": {},
   "outputs": [
    {
     "data": {
      "text/plain": [
       "5.8"
      ]
     },
     "execution_count": 47,
     "metadata": {},
     "output_type": "execute_result"
    }
   ],
   "source": [
    "np.average(notas, weights=pesos)"
   ]
  }
 ],
 "metadata": {
  "kernelspec": {
   "display_name": "Python 3 (ipykernel)",
   "language": "python",
   "name": "python3"
  },
  "language_info": {
   "codemirror_mode": {
    "name": "ipython",
    "version": 3
   },
   "file_extension": ".py",
   "mimetype": "text/x-python",
   "name": "python",
   "nbconvert_exporter": "python",
   "pygments_lexer": "ipython3",
   "version": "3.12.4"
  }
 },
 "nbformat": 4,
 "nbformat_minor": 5
}
